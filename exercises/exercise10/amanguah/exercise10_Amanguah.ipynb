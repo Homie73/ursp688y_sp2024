{
 "cells": [
  {
   "cell_type": "markdown",
   "id": "64cfc94b-7f4c-44d0-a738-dcf75ca56307",
   "metadata": {
    "id": "64cfc94b-7f4c-44d0-a738-dcf75ca56307"
   },
   "source": [
    "Urban Data Science & Smart Cities <br>\n",
    "URSP688Y <br>\n",
    "Instructor: Chester Harvey <br>\n",
    "Urban Studies & Planning <br>\n",
    "National Center for Smart Growth <br>\n",
    "University of Maryland"
   ]
  },
  {
   "cell_type": "markdown",
   "id": "40140710-dbbb-4249-99bb-bb317297a1cd",
   "metadata": {
    "id": "40140710-dbbb-4249-99bb-bb317297a1cd"
   },
   "source": [
    "[<img src=\"https://colab.research.google.com/assets/colab-badge.svg\">](https://colab.research.google.com/github/ncsg/ursp688y_sp2024/blob/main/exercises/exercise10/exercise10.ipynb)"
   ]
  },
  {
   "cell_type": "markdown",
   "id": "4dbe22dc-a58d-4a1b-a106-dd923f988e5b",
   "metadata": {
    "id": "4dbe22dc-a58d-4a1b-a106-dd923f988e5b"
   },
   "source": [
    "# Exercise 10\n",
    "\n",
    "This last exercise is an opportunity for you to make progress on your final project. Please identify a portion of your project that you can reasonably address within the next three weeks and submit a notebook (and any other related files) where you:\n",
    "\n",
    "1. State the question you are aiming to address with this portion of your analysis (likely a sub-question of the overarching question for your project)\n",
    "2. Outline the approach you will use to answer that question\n",
    "3. Operationalize your approach with data and code that you can later slot into your final product\n",
    "\n",
    "If you are writing a proposal for your final project, please further discuss how and why you will propose using certain data and methods, and discuss the implications of these choices, in lieu of the third step above (writing code). You may submit a PDF document instead of a notebook.\n",
    "\n",
    "For either type of project, please design the work you do for this exercise to contribute directly to your final product."
   ]
  },
  {
   "cell_type": "markdown",
   "id": "7c2n8BTKZc99",
   "metadata": {
    "id": "7c2n8BTKZc99"
   },
   "source": [
    "Proposal Title: Analyzing Bike Share Station Utilization Patterns in Ward 7, Washington, DC\n",
    "\n",
    "Introduction: Equitable access to sustainable transportation options, such as bike share systems, is a key priority for planners and policymakers aiming to improve mobility and quality of life for all residents. In Washington, DC, the Capital Bikeshare program has expanded rapidly since its launch in 2010, yet concerns remain about ensuring accessibility across different neighborhoods.\n",
    "\n",
    "Ward 7, located in the eastern part of the city, has historically faced transportation challenges and limited access to various mobility options. Understanding the distribution and usage patterns of bike share stations in this community can provide valuable insights to guide future planning and investment decisions.\n",
    "\n",
    "Research Questions:\n",
    "\n",
    "How are bike share stations distributed spatially within Ward 7, and are there any areas with limited station coverage?\n",
    "What station-level characteristics (e.g., station capacity, nearby land use) are associated with higher bike share utilization in Ward 7?"
   ]
  },
  {
   "cell_type": "code",
   "execution_count": 1,
   "id": "08e433dd-dd67-49da-9249-b53a2296e7c8",
   "metadata": {
    "id": "08e433dd-dd67-49da-9249-b53a2296e7c8"
   },
   "outputs": [],
   "source": [
    "# Import necessary libraries\n",
    "import os\n",
    "import pandas as pd\n",
    "import geopandas as gpd\n",
    "import requests\n",
    "import json\n",
    "from shapely.geometry import Point\n",
    "import matplotlib.pyplot as plt\n",
    "import folium\n",
    "from folium.plugins import MarkerCluster\n",
    "from folium import GeoJson, Choropleth\n"
   ]
  },
  {
   "cell_type": "code",
   "execution_count": null,
   "id": "wTfLZSAsaDZt",
   "metadata": {
    "colab": {
     "base_uri": "https://localhost:8080/"
    },
    "executionInfo": {
     "elapsed": 2354,
     "status": "ok",
     "timestamp": 1714743749597,
     "user": {
      "displayName": "Ebenezer Amanguah",
      "userId": "00425518572352684882"
     },
     "user_tz": 240
    },
    "id": "wTfLZSAsaDZt",
    "outputId": "d061f85e-bf41-48e9-c0f3-9c8d0e8cabb3"
   },
   "outputs": [
    {
     "name": "stdout",
     "output_type": "stream",
     "text": [
      "Drive already mounted at /content/drive; to attempt to forcibly remount, call drive.mount(\"/content/drive\", force_remount=True).\n"
     ]
    }
   ],
   "source": [
    "# mount drive\n",
    "from google.colab import drive\n",
    "drive.mount('/content/drive')\n",
    "\n",
    "os.chdir('/content/drive/MyDrive/Amanguah/URSP668Y_Data_Science/Amanguah_Exercise_folder/python project_exercise10_and_final_project')"
   ]
  },
  {
   "cell_type": "code",
   "execution_count": 3,
   "id": "TLOHTl02a7zj",
   "metadata": {
    "colab": {
     "base_uri": "https://localhost:8080/"
    },
    "executionInfo": {
     "elapsed": 210383,
     "status": "ok",
     "timestamp": 1714743963867,
     "user": {
      "displayName": "Ebenezer Amanguah",
      "userId": "00425518572352684882"
     },
     "user_tz": 240
    },
    "id": "TLOHTl02a7zj",
    "outputId": "94b95172-a1fa-4bfe-897b-311f17e63db9"
   },
   "outputs": [
    {
     "name": "stdout",
     "output_type": "stream",
     "text": [
      "False\n"
     ]
    }
   ],
   "source": [
    "# Loading required dataset for analysis\n",
    "wards_dc = gpd.read_file('wards_dc')\n",
    "ward7_boundary = wards_dc[wards_dc['WARD'] == 7]\n",
    "# Load census tract data\n",
    "census_tracts = gpd.read_file('census_tracts')\n",
    "# Load bikeshare trip data\n",
    "bikeshare_trip_data = pd.read_csv('202312-capitalbikeshare-tripdata/202312-capitalbikeshare-tripdata.csv')\n",
    "# Load zoning designated data\n",
    "zoning = gpd.read_file('Zoning_Downtown_Designated_Streets')\n",
    "# load point of interest data\n",
    "poi_data = gpd.read_file('Points_of_Interest')\n",
    "# load metro station data\n",
    "metro_station_data = gpd.read_file('Metro_Stations_in_DC')\n",
    "# load land use data\n",
    "land_use_data = gpd.read_file('Existing_Land_Use')\n",
    "#Attempt to simplify geometries\n",
    "land_use_data['geometry'] = land_use_data.geometry.simplify(tolerance=0.01)\n",
    "#Check again if all geometries are valid after simplification\n",
    "print(land_use_data.geometry.is_valid.all())\n",
    "# Save the simplified data\n",
    "land_use_data.to_file('simplified_data.shp')\n"
   ]
  },
  {
   "cell_type": "code",
   "execution_count": null,
   "id": "xG0LugWJdThy",
   "metadata": {
    "colab": {
     "base_uri": "https://localhost:8080/"
    },
    "executionInfo": {
     "elapsed": 822,
     "status": "ok",
     "timestamp": 1714743990247,
     "user": {
      "displayName": "Ebenezer Amanguah",
      "userId": "00425518572352684882"
     },
     "user_tz": 240
    },
    "id": "xG0LugWJdThy",
    "outputId": "7af5f0b7-0400-4c78-f081-a7cbaaff5de1"
   },
   "outputs": [
    {
     "name": "stdout",
     "output_type": "stream",
     "text": [
      "Station data downloaded successfully!\n"
     ]
    }
   ],
   "source": [
    "# URL of the station information API endpoint\n",
    "url = \"https://gbfs.lyft.com/gbfs/2.3/dca-cabi/en/station_information.json\"\n",
    "\n",
    "# Send a GET request to the API endpoint\n",
    "response = requests.get(url)\n",
    "\n",
    "# Check if the request was successful\n",
    "if response.status_code == 200:\n",
    "    # Save the station data to a file\n",
    "    with open(\"bike_stations.json\", \"w\") as file:\n",
    "        file.write(response.text)\n",
    "    print(\"Station data downloaded successfully!\")\n",
    "else:\n",
    "    print(\"Failed to download station data.\")\n",
    "\n",
    "# Load the JSON data\n",
    "with open(\"bike_stations.json\", \"r\") as file:\n",
    "    data = json.load(file)\n",
    "# Convert the data to a pandas DataFrame\n",
    "bikeshare_station = pd.DataFrame(data[\"data\"][\"stations\"])\n",
    "# Convert the bikeshare_station DataFrame to a GeoDataFrame\n",
    "bikeshare_station_gdf = gpd.GeoDataFrame(bikeshare_station, geometry=gpd.points_from_xy(bikeshare_station['lon'], bikeshare_station['lat']), crs='EPSG:4326')"
   ]
  },
  {
   "cell_type": "markdown",
   "id": "0W1nU-C1d0JQ",
   "metadata": {
    "id": "0W1nU-C1d0JQ"
   },
   "source": [
    "Research Question 1: How are bike share stations distributed spatially within Ward 7, and are there any areas with limited station coverage?\n",
    "\n",
    "Approach to Answering question one"
   ]
  },
  {
   "cell_type": "code",
   "execution_count": null,
   "id": "h4FtdkHnd1hw",
   "metadata": {
    "id": "h4FtdkHnd1hw"
   },
   "outputs": [],
   "source": [
    "# Store the EPSG code for UTM18\n",
    "UTM18 = 26918\n",
    "\n",
    "# Store the EPSG code for WGS84\n",
    "WGS84 = 4326\n",
    "\n",
    "bikeshare_station_gdf = bikeshare_station_gdf.to_crs(epsg=UTM18)\n",
    "ward7_boundary = ward7_boundary.to_crs(epsg=UTM18)\n",
    "census_tracts = census_tracts.to_crs(epsg=UTM18)\n",
    "\n",
    "# Perform spatial join\n",
    "bikeshare_stations_in_ward7 = gpd.sjoin(bikeshare_station_gdf, ward7_boundary, how='inner', predicate='within')\n",
    "\n",
    "# Calculate the centroid of each census tract\n",
    "census_tracts['centroid'] = census_tracts.centroid\n",
    "\n",
    "# Find the nearest bike share station for each census tract centroid\n",
    "def find_nearest_station(row):\n",
    "    nearest_station = min(bikeshare_stations_in_ward7.geometry, key=lambda g: g.distance(row.centroid))\n",
    "    return nearest_station\n",
    "\n",
    "census_tracts['nearest_station'] = census_tracts.apply(find_nearest_station, axis=1)\n",
    "\n",
    "# Calculate the distance from each census tract centroid to the nearest bike share station\n",
    "census_tracts['nearest_station_dist'] = census_tracts.apply(lambda row: row.centroid.distance(row.nearest_station), axis=1)\n",
    "#census_tracts['nearest_station_dist']"
   ]
  },
  {
   "cell_type": "code",
   "execution_count": null,
   "id": "fg3hmOcZg_Q1",
   "metadata": {
    "colab": {
     "base_uri": "https://localhost:8080/"
    },
    "executionInfo": {
     "elapsed": 135,
     "status": "ok",
     "timestamp": 1714744003669,
     "user": {
      "displayName": "Ebenezer Amanguah",
      "userId": "00425518572352684882"
     },
     "user_tz": 240
    },
    "id": "fg3hmOcZg_Q1",
    "outputId": "f792deec-1f98-4804-a57c-0bcfa7381dcb"
   },
   "outputs": [
    {
     "name": "stdout",
     "output_type": "stream",
     "text": [
      "Mean distance: 4302.34 meters\n",
      "Median distance: 4203.76 meters\n",
      "Maximum distance: 11370.31 meters\n"
     ]
    }
   ],
   "source": [
    "print(f\"Mean distance: {census_tracts['nearest_station_dist'].mean():.2f} meters\")\n",
    "print(f\"Median distance: {census_tracts['nearest_station_dist'].median():.2f} meters\")\n",
    "print(f\"Maximum distance: {census_tracts['nearest_station_dist'].max():.2f} meters\")"
   ]
  },
  {
   "cell_type": "code",
   "execution_count": null,
   "id": "ziEPCjPlhCb7",
   "metadata": {
    "colab": {
     "base_uri": "https://localhost:8080/"
    },
    "executionInfo": {
     "elapsed": 154,
     "status": "ok",
     "timestamp": 1714744006951,
     "user": {
      "displayName": "Ebenezer Amanguah",
      "userId": "00425518572352684882"
     },
     "user_tz": 240
    },
    "id": "ziEPCjPlhCb7",
    "outputId": "49a9ba2a-bb77-4a89-d269-d1e552e85db5"
   },
   "outputs": [
    {
     "name": "stdout",
     "output_type": "stream",
     "text": [
      "Number of census tracts with limited bike share access: 191\n",
      "Number of census tracts in Ward 7: 206\n",
      "Number of bike share stations in Ward 7: 34\n"
     ]
    }
   ],
   "source": [
    "# Calculate the number of census tracts in Ward 7\n",
    "num_census_tracts_in_ward7 = len(census_tracts==7)\n",
    "\n",
    "# Calculate the number of bike share stations in Ward 7\n",
    "num_bikeshare_stations_in_ward7 = len(bikeshare_stations_in_ward7)\n",
    "\n",
    "# Define a walkability threshold distance (e.g., 400 meters)\n",
    "walkability_threshold = 400\n",
    "\n",
    "# Identify census tracts with limited bike share access\n",
    "limited_access_tracts = census_tracts[census_tracts['nearest_station_dist'] > walkability_threshold]\n",
    "print(f\"Number of census tracts with limited bike share access: {len(limited_access_tracts)}\")\n",
    "print(f\"Number of census tracts in Ward 7: {num_census_tracts_in_ward7}\")\n",
    "print(f\"Number of bike share stations in Ward 7: {num_bikeshare_stations_in_ward7}\")"
   ]
  },
  {
   "cell_type": "code",
   "execution_count": null,
   "id": "8Zm4K2Qyv6vm",
   "metadata": {
    "colab": {
     "base_uri": "https://localhost:8080/",
     "height": 411,
     "output_embedded_package_id": "1pdkeX3hQvptoqx8ykI3wa2KSSGDd-ZGi"
    },
    "executionInfo": {
     "elapsed": 2389,
     "status": "ok",
     "timestamp": 1714748275891,
     "user": {
      "displayName": "Ebenezer Amanguah",
      "userId": "00425518572352684882"
     },
     "user_tz": 240
    },
    "id": "8Zm4K2Qyv6vm",
    "outputId": "0c1e019a-d4af-4644-ad49-809535a87611"
   },
   "outputs": [
    {
     "data": {
      "text/plain": [
       "Output hidden; open in https://colab.research.google.com to view."
      ]
     },
     "metadata": {},
     "output_type": "display_data"
    }
   ],
   "source": [
    "# Create Folium map\n",
    "bikeshare_stations_in_ward7 = bikeshare_stations_in_ward7.to_crs(WGS84)\n",
    "census_tracts = census_tracts.to_crs(WGS84)\n",
    "\n",
    "# Create a map centered on Ward 7\n",
    "ward7_centroid = census_tracts.geometry.unary_union.centroid\n",
    "m = folium.Map(location=[38.88, -76.95], zoom_start=12)\n",
    "\n",
    "# Add ward7_boundary to the map\n",
    "folium.GeoJson(ward7_boundary).add_to(m)\n",
    "\n",
    "# Add the census tract boundaries to the map\n",
    "folium.GeoJson(census_tracts, name='census_tracts').add_to(m)\n",
    "\n",
    "# Add bike share stations to the map with popups\n",
    "marker_cluster = MarkerCluster().add_to(m)\n",
    "for idx, row in bikeshare_stations_in_ward7.iterrows():\n",
    "    popup_text = f\"Bike Share Station: {row['name']}\"\n",
    "    folium.Marker(\n",
    "        [row.geometry.y, row.geometry.x],\n",
    "        popup=popup_text\n",
    "    ).add_to(marker_cluster)\n",
    "\n",
    "# Add census tracts to the map, highlighting limited access tracts\n",
    "folium.Choropleth(\n",
    "    geo_data=census_tracts.__geo_interface__,\n",
    "    name='Accessibility',\n",
    "    data=census_tracts,\n",
    "    columns=['NAME', 'nearest_station_dist'],\n",
    "    key_on='feature.properties.NAME',\n",
    "    fill_color='YlOrRd',\n",
    "    fill_opacity=0.7,\n",
    "    line_opacity=0.3,\n",
    "    legend_name='Distance to Nearest Bike Share Station (meters)'\n",
    ").add_to(m)\n",
    "\n",
    "# Display map\n",
    "m\n"
   ]
  },
  {
   "cell_type": "markdown",
   "id": "jHtrLEBx1kXT",
   "metadata": {
    "id": "jHtrLEBx1kXT"
   },
   "source": [
    "\n",
    "The analysis of bike share accessibility in Ward 7 reveals that out of the 206 census tracts, only 34 have bike share stations, indicating limited availability of this transportation option within the ward. A walkability threshold limit of 400 meters was defined to determine the census tracts with limited access. As a result, 191 census tracts are identified as having limited bike share access. The mean distance to the nearest bike share station is calculated to be 4302.34 meters, with a median distance of 4203.76 meters and a maximum distance of 11370.31 meters. These figures highlight the significant disparities in bike share accessibility across the ward, with some residents facing considerable challenges in accessing this mode of transportation. The findings underscore the urgent need for interventions to improve bike share infrastructure and increase accessibility in Ward 7, thereby promoting equitable access to alternative transportation options and enhancing community mobility."
   ]
  },
  {
   "cell_type": "markdown",
   "id": "Ya1B97fcOcuw",
   "metadata": {
    "id": "Ya1B97fcOcuw"
   },
   "source": [
    "Question 2: What station-level characteristics (e.g., station capacity, nearby land use) are associated with higher bike share utilization in Ward 7?\n",
    "\n",
    "Working towards answering question 2 below:"
   ]
  },
  {
   "cell_type": "code",
   "execution_count": null,
   "id": "QnW6-hrZOm9q",
   "metadata": {
    "id": "QnW6-hrZOm9q"
   },
   "outputs": [],
   "source": [
    "bikeshare_station_gdf = gpd.GeoDataFrame(\n",
    "    bikeshare_station_gdf,\n",
    "    geometry=gpd.points_from_xy(bikeshare_station_gdf['lon'], bikeshare_station_gdf['lat']),\n",
    "    crs=WGS84)\n",
    "\n",
    "# Reproject the geometries to a common coordinate system (UTM18)\n",
    "bikeshare_station_gdf = bikeshare_station_gdf.to_crs(epsg=UTM18)\n",
    "zoning = zoning.to_crs(epsg=UTM18)\n",
    "land_use_data = land_use_data.to_crs(epsg=UTM18)\n",
    "metro_station_data = metro_station_data.to_crs(epsg=UTM18)\n",
    "poi_data = poi_data.to_crs(epsg=UTM18)\n",
    "ward7_boundary = ward7_boundary.to_crs(epsg=UTM18)\n",
    "\n",
    "# Extract relevant station-level features\n",
    "station_level_features = bikeshare_station_gdf[['station_id', 'name', 'capacity', 'lon', 'lat']]\n"
   ]
  },
  {
   "cell_type": "code",
   "execution_count": null,
   "id": "5CGX38qBW59y",
   "metadata": {
    "id": "5CGX38qBW59y"
   },
   "outputs": [],
   "source": [
    "# Filter land use data to Ward 7\n",
    "# Apply a buffer operation to fix potential topological errors\n",
    "land_use_data['geometry'] = land_use_data.geometry.buffer(0)\n",
    "ward7_boundary['geometry'] = ward7_boundary.geometry.buffer(0)\n",
    "\n",
    "# Filter land use data to Ward 7\n",
    "land_use_data_ward7 = gpd.clip(land_use_data, ward7_boundary)\n",
    "\n",
    "# Filter metro stations to those within Ward 7\n",
    "metro_station_data_ward7 = gpd.clip(metro_station_data, ward7_boundary)\n",
    "\n",
    "# Filter POI data to those within Ward 7\n",
    "poi_data_ward7 = gpd.clip(poi_data, ward7_boundary)"
   ]
  },
  {
   "cell_type": "code",
   "execution_count": null,
   "id": "b7oeZIbWH0mq",
   "metadata": {
    "colab": {
     "base_uri": "https://localhost:8080/"
    },
    "executionInfo": {
     "elapsed": 136,
     "status": "ok",
     "timestamp": 1714748623908,
     "user": {
      "displayName": "Ebenezer Amanguah",
      "userId": "00425518572352684882"
     },
     "user_tz": 240
    },
    "id": "b7oeZIbWH0mq",
    "outputId": "d1bcc8fe-fb69-48fe-ff02-ffae8e880786"
   },
   "outputs": [
    {
     "name": "stderr",
     "output_type": "stream",
     "text": [
      "/usr/local/lib/python3.10/dist-packages/IPython/core/interactiveshell.py:3473: FutureWarning: The `op` parameter is deprecated and will be removed in a future release. Please use the `predicate` parameter instead.\n",
      "  if (await self.run_code(code, result,  async_=asy)):\n"
     ]
    }
   ],
   "source": [
    "# Extract relevant station-level features\n",
    "station_level_features = bikeshare_station_gdf[['station_id', 'name', 'capacity', 'lon', 'lat']]\n",
    "\n",
    "# Merge station-level features with zoning data\n",
    "bikeshare_stations_with_zoning = gpd.sjoin(bikeshare_station_gdf, zoning, how='left', op='intersects')\n"
   ]
  },
  {
   "cell_type": "code",
   "execution_count": null,
   "id": "RMV3YAVBIRHm",
   "metadata": {
    "id": "RMV3YAVBIRHm"
   },
   "outputs": [],
   "source": [
    "# Convert 'started_at' and 'ended_at' columns to datetime objects\n",
    "bikeshare_trip_data['started_at'] = pd.to_datetime(bikeshare_trip_data['started_at'])\n",
    "bikeshare_trip_data['ended_at'] = pd.to_datetime(bikeshare_trip_data['ended_at'])\n",
    "\n",
    "# Calculate trip duration in seconds\n",
    "bikeshare_trip_data['trip_duration'] = (bikeshare_trip_data['ended_at'] - bikeshare_trip_data['started_at']).dt.total_seconds()\n",
    "\n",
    "# Group trip data by start station and calculate utilization metrics\n",
    "station_utilization = bikeshare_trip_data.groupby('start_station_id')[['trip_duration']].agg(['count', 'mean'])\n",
    "station_utilization.columns = ['total_trips', 'avg_trip_duration']\n",
    "station_utilization = station_utilization.reset_index()\n",
    "\n",
    "# Merge station-level features and utilization metrics\n",
    "bikeshare_stations_with_data_combined_df = pd.concat([bikeshare_stations_with_zoning, station_utilization], axis=1)"
   ]
  },
  {
   "cell_type": "code",
   "execution_count": null,
   "id": "sErWkNq6Ncef",
   "metadata": {
    "colab": {
     "base_uri": "https://localhost:8080/"
    },
    "executionInfo": {
     "elapsed": 204,
     "status": "ok",
     "timestamp": 1714748687261,
     "user": {
      "displayName": "Ebenezer Amanguah",
      "userId": "00425518572352684882"
     },
     "user_tz": 240
    },
    "id": "sErWkNq6Ncef",
    "outputId": "0f81e7d5-2229-424f-dfde-7cec0f6e7e93"
   },
   "outputs": [
    {
     "name": "stdout",
     "output_type": "stream",
     "text": [
      "Correlation between station capacity and total trips: 0.00\n"
     ]
    }
   ],
   "source": [
    "# Calculate correlation between station capacity and total trips\n",
    "correlation = bikeshare_stations_with_data_combined_df[['capacity', 'total_trips']].corr().iloc[0, 1]\n",
    "print(f'Correlation between station capacity and total trips: {correlation:.2f}')\n"
   ]
  },
  {
   "cell_type": "code",
   "execution_count": null,
   "id": "tT_i2noN_GMT",
   "metadata": {
    "id": "tT_i2noN_GMT"
   },
   "outputs": [],
   "source": [
    "# Calculate distance to nearest metro station\n",
    "bikeshare_stations_with_data_combined_df['dist_to_metro'] = bikeshare_stations_with_data_combined_df.geometry.apply(lambda g: metro_station_data.geometry.distance(g).min())\n",
    "#bikeshare_stations_with_data_combined_df['dist_to_metro']"
   ]
  },
  {
   "cell_type": "code",
   "execution_count": null,
   "id": "bcKFG-LbR1PD",
   "metadata": {
    "id": "bcKFG-LbR1PD"
   },
   "outputs": [],
   "source": [
    "# Calculate distance to nearest land use type\n",
    "for land_use_type in land_use_data_ward7['DESCRIPTIO'].unique():\n",
    "    if land_use_type is not None:\n",
    "        land_use_data_ward7_subset = land_use_data_ward7[land_use_data_ward7['DESCRIPTIO'] == land_use_type]\n",
    "        bikeshare_stations_with_data_combined_df[f'dist_to_{land_use_type.lower().replace(\" \", \"_\")}'] = \\\n",
    "            bikeshare_stations_with_data_combined_df.geometry.apply(\n",
    "                lambda g: land_use_data_ward7_subset.distance(g).min())\n",
    "#bikeshare_stations_with_data_combined_df"
   ]
  },
  {
   "cell_type": "code",
   "execution_count": null,
   "id": "fIOQWQejWDWx",
   "metadata": {
    "id": "fIOQWQejWDWx"
   },
   "outputs": [],
   "source": [
    "# Create a list to store all calculated distances\n",
    "distances = []\n",
    "\n",
    "# Calculate distance to nearest POI\n",
    "for poi_type in poi_data_ward7['NAME'].dropna().unique():\n",
    "    poi_data_ward7_subset = poi_data_ward7[poi_data_ward7['NAME'] == poi_type]\n",
    "    col_name = f\"dist_to_{poi_type.lower().replace(' ', '_')}\"\n",
    "    distances.append(bikeshare_stations_with_data_combined_df.geometry.apply(lambda g: poi_data_ward7_subset.distance(g).min()))\n",
    "\n",
    "# Concatenate all distances to create a DataFrame\n",
    "distance_df = pd.concat(distances, axis=1)\n",
    "\n",
    "# Rename columns\n",
    "distance_df.columns = [f\"dist_to_{poi_type.lower().replace(' ', '_')}\" for poi_type in poi_data_ward7['NAME'].dropna().unique()]\n",
    "\n",
    "# Concatenate the calculated distances with the original DataFrame\n",
    "bikeshare_stations_with_data_combined_df = pd.concat([bikeshare_stations_with_data_combined_df, distance_df], axis=1)\n",
    "#bikeshare_stations_with_data_combined_df"
   ]
  },
  {
   "cell_type": "code",
   "execution_count": null,
   "id": "S9-7RnpQh6_l",
   "metadata": {
    "colab": {
     "base_uri": "https://localhost:8080/",
     "height": 472
    },
    "executionInfo": {
     "elapsed": 838,
     "status": "ok",
     "timestamp": 1714748835084,
     "user": {
      "displayName": "Ebenezer Amanguah",
      "userId": "00425518572352684882"
     },
     "user_tz": 240
    },
    "id": "S9-7RnpQh6_l",
    "outputId": "a8acbd8c-46f3-4592-dac2-1e422c154b25"
   },
   "outputs": [
    {
     "data": {
      "image/png": "[encoded data removed]",
      "text/plain": [
       "<Figure size 640x480 with 2 Axes>"
      ]
     },
     "metadata": {},
     "output_type": "display_data"
    }
   ],
   "source": [
    "# Define marker size based on station utilization\n",
    "marker_size = bikeshare_stations_with_data_combined_df['total_trips'] / 100\n",
    "\n",
    "# Create a bubble plot of station capacity vs. total trips\n",
    "plt.scatter(bikeshare_stations_with_data_combined_df['capacity'],\n",
    "            bikeshare_stations_with_data_combined_df['total_trips'],\n",
    "            s=marker_size, alpha=0.5)\n",
    "\n",
    "plt.xlabel('Station Capacity')\n",
    "plt.ylabel('Total Trips')\n",
    "plt.title('Station Capacity vs. Total Trips')\n",
    "\n",
    "# Add a color bar legend for marker sizes\n",
    "plt.colorbar(label='Station Utilization')\n",
    "\n",
    "plt.grid(True)\n",
    "plt.show()"
   ]
  },
  {
   "cell_type": "code",
   "execution_count": null,
   "id": "bfDpstZ9m160",
   "metadata": {
    "colab": {
     "base_uri": "https://localhost:8080/",
     "height": 411,
     "output_embedded_package_id": "1Gg0cuimtgttGB5dNrZE6TBXFrJkuP1Qx"
    },
    "executionInfo": {
     "elapsed": 47262,
     "status": "ok",
     "timestamp": 1714748887700,
     "user": {
      "displayName": "Ebenezer Amanguah",
      "userId": "00425518572352684882"
     },
     "user_tz": 240
    },
    "id": "bfDpstZ9m160",
    "outputId": "1caadb58-780a-4d2d-a890-9599672c3e1e"
   },
   "outputs": [
    {
     "data": {
      "text/plain": [
       "Output hidden; open in https://colab.research.google.com to view."
      ]
     },
     "metadata": {},
     "output_type": "display_data"
    }
   ],
   "source": [
    "\n",
    "# Create Folium map\n",
    "m = folium.Map(location=[38.88, -76.95], zoom_start=12)\n",
    "\n",
    "# Add ward7_boundary to the map\n",
    "folium.GeoJson(ward7_boundary).add_to(m)\n",
    "\n",
    "# Filter bike share stations within Ward 7\n",
    "bikeshare_stations_ward7 = bikeshare_stations_with_data_combined_df[bikeshare_stations_with_data_combined_df.geometry.within(ward7_boundary.unary_union)]\n",
    "\n",
    "# Add bike share stations to the map\n",
    "marker_cluster = MarkerCluster().add_to(m)\n",
    "\n",
    "# Add markers for distance to metro stations\n",
    "for idx, row in bikeshare_stations_ward7.iterrows():\n",
    "    if 'dist_to_metro' in row:\n",
    "        folium.Marker(location=[row['lat'], row['lon']],\n",
    "                      popup=f\"Distance to Metro: {row['dist_to_metro']:.2f} meters\",\n",
    "                      icon=folium.Icon(color='blue')).add_to(marker_cluster)\n",
    "\n",
    "# Add markers for distance to POI\n",
    "for col in bikeshare_stations_ward7.columns:\n",
    "    if col.startswith('dist_to_poi_'):\n",
    "        poi_type = col.replace('dist_to_poi_', '').replace('_', ' ').title()\n",
    "        for idx, row in bikeshare_stations_ward7.iterrows():\n",
    "            if not pd.isnull(row[col]):\n",
    "                folium.Marker(location=[row['lat'], row['lon']],\n",
    "                              popup=f\"Distance to {poi_type}: {row[col]:.2f} meters\",\n",
    "                              icon=folium.Icon(color='yellow')).add_to(marker_cluster)\n",
    "\n",
    "import math\n",
    "\n",
    "# Add markers for distance to land use types\n",
    "for col in bikeshare_stations_ward7.columns:\n",
    "    if col.startswith('dist_to_') and not col.startswith('dist_to_poi_') and not col.startswith('dist_to_metro'):\n",
    "        land_use_type = col.replace('dist_to_', '').replace('_', ' ').title()\n",
    "        for idx, row in bikeshare_stations_ward7.iterrows():\n",
    "            if not pd.isna(row[col]):\n",
    "                folium.Marker(location=[row['lat'], row['lon']],\n",
    "                              popup=f\"Distance to {land_use_type}: {row[col]:.2f} meters\",\n",
    "                              icon=folium.Icon(color='red')).add_to(marker_cluster)\n",
    "\n",
    "\n",
    "# Display the map\n",
    "m\n"
   ]
  },
  {
   "cell_type": "markdown",
   "id": "kmw0l133o_W5",
   "metadata": {
    "id": "kmw0l133o_W5"
   },
   "source": [
    "\n",
    "Station-level characteristics associated with higher bikeshare utilization in Ward 7 include proximity to metro stations and nearby land use patterns. The data shows stations farther from metro stations have lower utilization, with distances ranging from around 18,000 meters (e.g. station 31389 at 18,857 meters) to under 1,000 meters (e.g. station 31508 at 803 meters) from the nearest metro. Stations situated closer to the Anacostia Riverwalk Trail, a mixed residential/commercial area, exhibit higher bikeshare utilization - for example, (station 31508) is only 4,073 meters from the Trail at mile marker 9.9. In contrast, stations further away from the Trail, like (station 31389) at 28,460 meters from the same mile marker, likely see less utilization due to the surrounding single-use residential land. The findings suggest that when deploying bike share systems, prioritizing stations close to transit hubs and mixed-use development can increase ridership by serving both commuters and recreational users. Effective placement considers multi-modal accessibility and accounts for the land use context of potential station sites.\n",
    "\n",
    "\n",
    "\n",
    "\n",
    "\n",
    "\n",
    "\n"
   ]
  },
  {
   "cell_type": "markdown",
   "id": "E20oghELFYhN",
   "metadata": {
    "id": "E20oghELFYhN"
   },
   "source": [
    "Recommendation for Policy Makers\n",
    "\n",
    "Prioritize Station Expansion in Underserved Areas: The spatial analysis revealed that a substantial proportion (92.7%) of census tracts in Ward 7 have limited access to bike share stations, with some tracts located over 7 miles from the nearest station. To address this inequity, planning policies should prioritize the strategic expansion of the bike share network in these underserved areas. By increasing the density of stations in residential neighborhoods currently lacking convenient access, policymakers can enhance transportation options and promote active mobility for a broader segment of the ward's population.\n",
    "\n",
    "Leverage Proximity to Transit and Mixed-Use Development: The utilization analysis demonstrated that stations located in close proximity to metro stations and mixed-use areas, such as the Anacostia Riverwalk Trail, tend to experience higher levels of bike share usage. Planning policies should focus on locating new stations near existing transit hubs and areas with a diverse mix of residential, commercial, and recreational land uses. This approach can capitalize on the synergies between bike share and other modes of transportation, while also catering to both commuter and recreational ridership demands.\n",
    "\n",
    "Foster Public-Private Partnerships: Implementing an expanded and more equitable bike share system in Ward 7 will require significant financial resources and coordination. Planning policies should encourage public-private partnerships, inviting collaboration between local government agencies, private bike share operators, and community stakeholders. These partnerships can leverage shared resources, expertise, and vested interests to develop sustainable funding models, streamline implementation processes, and ensure that the system's design and operations align with the unique needs and preferences of Ward 7's diverse communities.\n",
    "\n",
    "Integrate with Multimodal Transportation Planning: Bike share systems should not be viewed in isolation but rather as an integral component of a comprehensive multimodal transportation network. Planning policies should emphasize the integration of bike share into broader transportation planning efforts, ensuring seamless connectivity with other modes such as public transit, pedestrian infrastructure, and micromobility options. This holistic approach can enhance the overall accessibility, convenience, and appeal of sustainable transportation alternatives for residents and visitors alike.\n",
    "Promote Community Engagement and Education: Successful implementation and long-term sustainability of an expanded bike share system in Ward 7 will require active community engagement and education efforts. Planning policies should mandate inclusive public outreach processes, soliciting input from diverse stakeholders and addressing potential concerns or barriers to adoption. Additionally, educational campaigns can increase awareness, promote safe cycling practices, and foster a culture of active transportation within the ward's communities.\n",
    "\n",
    "By incorporating these recommendations into planning policies, policymakers can address the identified spatial gaps and accessibility challenges, while also capitalizing on the factors that contribute to higher bike share utilization. Such an approach can foster a more equitable, sustainable, and integrated transportation system that meets the diverse needs of Ward 7's residents and supports the broader goals of promoting active mobility, reducing emissions, and enhancing overall quality of life."
   ]
  }
 ],
 "metadata": {
  "colab": {
   "provenance": [
    {
     "file_id": "https://github.com/ncsg/ursp688y_sp2024/blob/main/exercises/exercise10/exercise10.ipynb",
     "timestamp": 1714252228187
    },
    {
     "file_id": "https://github.com/ncsg/ursp688y_sp2024/blob/main/exercises/exercise06/exercise06.ipynb",
     "timestamp": 1709665091100
    }
   ]
  },
  "kernelspec": {
   "display_name": "Python 3 (ipykernel)",
   "language": "python",
   "name": "python3"
  },
  "language_info": {
   "codemirror_mode": {
    "name": "ipython",
    "version": 3
   },
   "file_extension": ".py",
   "mimetype": "text/x-python",
   "name": "python",
   "nbconvert_exporter": "python",
   "pygments_lexer": "ipython3",
   "version": "3.10.12"
  }
 },
 "nbformat": 4,
 "nbformat_minor": 5
}
