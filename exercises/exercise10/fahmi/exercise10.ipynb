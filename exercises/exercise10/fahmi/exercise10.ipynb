{
 "cells": [
  {
   "cell_type": "markdown",
   "id": "64cfc94b-7f4c-44d0-a738-dcf75ca56307",
   "metadata": {
    "id": "64cfc94b-7f4c-44d0-a738-dcf75ca56307"
   },
   "source": [
    "Urban Data Science & Smart Cities <br>\n",
    "URSP688Y <br>\n",
    "Instructor: Chester Harvey <br>\n",
    "Urban Studies & Planning <br>\n",
    "National Center for Smart Growth <br>\n",
    "University of Maryland"
   ]
  },
  {
   "cell_type": "markdown",
   "id": "40140710-dbbb-4249-99bb-bb317297a1cd",
   "metadata": {
    "id": "40140710-dbbb-4249-99bb-bb317297a1cd"
   },
   "source": [
    "[<img src=\"https://colab.research.google.com/assets/colab-badge.svg\">](https://colab.research.google.com/github/ncsg/ursp688y_sp2024/blob/main/exercises/exercise10/exercise10.ipynb)"
   ]
  },
  {
   "cell_type": "markdown",
   "id": "4dbe22dc-a58d-4a1b-a106-dd923f988e5b",
   "metadata": {
    "id": "4dbe22dc-a58d-4a1b-a106-dd923f988e5b"
   },
   "source": [
    "# Exercise 10\n",
    "\n",
    "This last exercise is an opportunity for you to make progress on your final project. Please identify a portion of your project that you can reasonably address within the next three weeks and submit a notebook (and any other related files) where you:\n",
    "\n",
    "1. State the question you are aiming to address with this portion of your analysis (likely a sub-question of the overarching question for your project)\n",
    "2. Outline the approach you will use to answer that question\n",
    "3. Operationalize your approach with data and code that you can later slot into your final product\n",
    "\n",
    "If you are writing a proposal for your final project, please further discuss how and why you will propose using certain data and methods, and discuss the implications of these choices, in lieu of the third step above (writing code). You may submit a PDF document instead of a notebook.\n",
    "\n",
    "For either type of project, please design the work you do for this exercise to contribute directly to your final product."
   ]
  },
  {
   "cell_type": "code",
   "execution_count": null,
   "id": "08e433dd-dd67-49da-9249-b53a2296e7c8",
   "metadata": {},
   "outputs": [],
   "source": []
  }
 ],
 "metadata": {
  "colab": {
   "provenance": [
    {
     "file_id": "https://github.com/ncsg/ursp688y_sp2024/blob/main/exercises/exercise06/exercise06.ipynb",
     "timestamp": 1709665091100
    }
   ]
  },
  "kernelspec": {
   "display_name": "Python 3 (ipykernel)",
   "language": "python",
   "name": "python3"
  },
  "language_info": {
   "codemirror_mode": {
    "name": "ipython",
    "version": 3
   },
   "file_extension": ".py",
   "mimetype": "text/x-python",
   "name": "python",
   "nbconvert_exporter": "python",
   "pygments_lexer": "ipython3",
   "version": "3.10.12"
  }
 },
 "nbformat": 4,
 "nbformat_minor": 5
}
